{
 "metadata": {
  "language_info": {
   "codemirror_mode": {
    "name": "ipython",
    "version": 3
   },
   "file_extension": ".py",
   "mimetype": "text/x-python",
   "name": "python",
   "nbconvert_exporter": "python",
   "pygments_lexer": "ipython3",
   "version": "3.6.10"
  },
  "orig_nbformat": 4,
  "kernelspec": {
   "name": "python3",
   "display_name": "Python 3.6.13 64-bit ('PythonData': conda)"
  },
  "interpreter": {
   "hash": "2d9cfea98c24f9fe45dc74017fee9aee343bdf68e5b03f34f00774f8f857f24a"
  }
 },
 "nbformat": 4,
 "nbformat_minor": 2,
 "cells": [
  {
   "cell_type": "code",
   "execution_count": 45,
   "metadata": {},
   "outputs": [
    {
     "output_type": "execute_result",
     "data": {
      "text/plain": [
       "            ID                      Name Sex   Age  Height  Weight  \\\n",
       "0            1                 A Dijiang   M  24.0   180.0    80.0   \n",
       "1            2                  A Lamusi   M  23.0   170.0    60.0   \n",
       "2            3       Gunnar Nielsen Aaby   M  24.0     NaN     NaN   \n",
       "3            4      Edgar Lindenau Aabye   M  34.0     NaN     NaN   \n",
       "4            5  Christine Jacoba Aaftink   F  21.0   185.0    82.0   \n",
       "...        ...                       ...  ..   ...     ...     ...   \n",
       "271111  135569                Andrzej ya   M  29.0   179.0    89.0   \n",
       "271112  135570                  Piotr ya   M  27.0   176.0    59.0   \n",
       "271113  135570                  Piotr ya   M  27.0   176.0    59.0   \n",
       "271114  135571        Tomasz Ireneusz ya   M  30.0   185.0    96.0   \n",
       "271115  135571        Tomasz Ireneusz ya   M  34.0   185.0    96.0   \n",
       "\n",
       "                  Team  NOC        Games  Year  Season            City  \\\n",
       "0                China  CHN  1992 Summer  1992  Summer       Barcelona   \n",
       "1                China  CHN  2012 Summer  2012  Summer          London   \n",
       "2              Denmark  DEN  1920 Summer  1920  Summer       Antwerpen   \n",
       "3       Denmark/Sweden  DEN  1900 Summer  1900  Summer           Paris   \n",
       "4          Netherlands  NED  1988 Winter  1988  Winter         Calgary   \n",
       "...                ...  ...          ...   ...     ...             ...   \n",
       "271111        Poland-1  POL  1976 Winter  1976  Winter       Innsbruck   \n",
       "271112          Poland  POL  2014 Winter  2014  Winter           Sochi   \n",
       "271113          Poland  POL  2014 Winter  2014  Winter           Sochi   \n",
       "271114          Poland  POL  1998 Winter  1998  Winter          Nagano   \n",
       "271115          Poland  POL  2002 Winter  2002  Winter  Salt Lake City   \n",
       "\n",
       "                Sport                                     Event Medal  \n",
       "0          Basketball               Basketball Men's Basketball   NaN  \n",
       "1                Judo              Judo Men's Extra-Lightweight   NaN  \n",
       "2            Football                   Football Men's Football   NaN  \n",
       "3          Tug-Of-War               Tug-Of-War Men's Tug-Of-War  Gold  \n",
       "4       Speed Skating          Speed Skating Women's 500 metres   NaN  \n",
       "...               ...                                       ...   ...  \n",
       "271111           Luge                Luge Mixed (Men)'s Doubles   NaN  \n",
       "271112    Ski Jumping  Ski Jumping Men's Large Hill, Individual   NaN  \n",
       "271113    Ski Jumping        Ski Jumping Men's Large Hill, Team   NaN  \n",
       "271114      Bobsleigh                      Bobsleigh Men's Four   NaN  \n",
       "271115      Bobsleigh                      Bobsleigh Men's Four   NaN  \n",
       "\n",
       "[271116 rows x 15 columns]"
      ],
      "text/html": "<div>\n<style scoped>\n    .dataframe tbody tr th:only-of-type {\n        vertical-align: middle;\n    }\n\n    .dataframe tbody tr th {\n        vertical-align: top;\n    }\n\n    .dataframe thead th {\n        text-align: right;\n    }\n</style>\n<table border=\"1\" class=\"dataframe\">\n  <thead>\n    <tr style=\"text-align: right;\">\n      <th></th>\n      <th>ID</th>\n      <th>Name</th>\n      <th>Sex</th>\n      <th>Age</th>\n      <th>Height</th>\n      <th>Weight</th>\n      <th>Team</th>\n      <th>NOC</th>\n      <th>Games</th>\n      <th>Year</th>\n      <th>Season</th>\n      <th>City</th>\n      <th>Sport</th>\n      <th>Event</th>\n      <th>Medal</th>\n    </tr>\n  </thead>\n  <tbody>\n    <tr>\n      <th>0</th>\n      <td>1</td>\n      <td>A Dijiang</td>\n      <td>M</td>\n      <td>24.0</td>\n      <td>180.0</td>\n      <td>80.0</td>\n      <td>China</td>\n      <td>CHN</td>\n      <td>1992 Summer</td>\n      <td>1992</td>\n      <td>Summer</td>\n      <td>Barcelona</td>\n      <td>Basketball</td>\n      <td>Basketball Men's Basketball</td>\n      <td>NaN</td>\n    </tr>\n    <tr>\n      <th>1</th>\n      <td>2</td>\n      <td>A Lamusi</td>\n      <td>M</td>\n      <td>23.0</td>\n      <td>170.0</td>\n      <td>60.0</td>\n      <td>China</td>\n      <td>CHN</td>\n      <td>2012 Summer</td>\n      <td>2012</td>\n      <td>Summer</td>\n      <td>London</td>\n      <td>Judo</td>\n      <td>Judo Men's Extra-Lightweight</td>\n      <td>NaN</td>\n    </tr>\n    <tr>\n      <th>2</th>\n      <td>3</td>\n      <td>Gunnar Nielsen Aaby</td>\n      <td>M</td>\n      <td>24.0</td>\n      <td>NaN</td>\n      <td>NaN</td>\n      <td>Denmark</td>\n      <td>DEN</td>\n      <td>1920 Summer</td>\n      <td>1920</td>\n      <td>Summer</td>\n      <td>Antwerpen</td>\n      <td>Football</td>\n      <td>Football Men's Football</td>\n      <td>NaN</td>\n    </tr>\n    <tr>\n      <th>3</th>\n      <td>4</td>\n      <td>Edgar Lindenau Aabye</td>\n      <td>M</td>\n      <td>34.0</td>\n      <td>NaN</td>\n      <td>NaN</td>\n      <td>Denmark/Sweden</td>\n      <td>DEN</td>\n      <td>1900 Summer</td>\n      <td>1900</td>\n      <td>Summer</td>\n      <td>Paris</td>\n      <td>Tug-Of-War</td>\n      <td>Tug-Of-War Men's Tug-Of-War</td>\n      <td>Gold</td>\n    </tr>\n    <tr>\n      <th>4</th>\n      <td>5</td>\n      <td>Christine Jacoba Aaftink</td>\n      <td>F</td>\n      <td>21.0</td>\n      <td>185.0</td>\n      <td>82.0</td>\n      <td>Netherlands</td>\n      <td>NED</td>\n      <td>1988 Winter</td>\n      <td>1988</td>\n      <td>Winter</td>\n      <td>Calgary</td>\n      <td>Speed Skating</td>\n      <td>Speed Skating Women's 500 metres</td>\n      <td>NaN</td>\n    </tr>\n    <tr>\n      <th>...</th>\n      <td>...</td>\n      <td>...</td>\n      <td>...</td>\n      <td>...</td>\n      <td>...</td>\n      <td>...</td>\n      <td>...</td>\n      <td>...</td>\n      <td>...</td>\n      <td>...</td>\n      <td>...</td>\n      <td>...</td>\n      <td>...</td>\n      <td>...</td>\n      <td>...</td>\n    </tr>\n    <tr>\n      <th>271111</th>\n      <td>135569</td>\n      <td>Andrzej ya</td>\n      <td>M</td>\n      <td>29.0</td>\n      <td>179.0</td>\n      <td>89.0</td>\n      <td>Poland-1</td>\n      <td>POL</td>\n      <td>1976 Winter</td>\n      <td>1976</td>\n      <td>Winter</td>\n      <td>Innsbruck</td>\n      <td>Luge</td>\n      <td>Luge Mixed (Men)'s Doubles</td>\n      <td>NaN</td>\n    </tr>\n    <tr>\n      <th>271112</th>\n      <td>135570</td>\n      <td>Piotr ya</td>\n      <td>M</td>\n      <td>27.0</td>\n      <td>176.0</td>\n      <td>59.0</td>\n      <td>Poland</td>\n      <td>POL</td>\n      <td>2014 Winter</td>\n      <td>2014</td>\n      <td>Winter</td>\n      <td>Sochi</td>\n      <td>Ski Jumping</td>\n      <td>Ski Jumping Men's Large Hill, Individual</td>\n      <td>NaN</td>\n    </tr>\n    <tr>\n      <th>271113</th>\n      <td>135570</td>\n      <td>Piotr ya</td>\n      <td>M</td>\n      <td>27.0</td>\n      <td>176.0</td>\n      <td>59.0</td>\n      <td>Poland</td>\n      <td>POL</td>\n      <td>2014 Winter</td>\n      <td>2014</td>\n      <td>Winter</td>\n      <td>Sochi</td>\n      <td>Ski Jumping</td>\n      <td>Ski Jumping Men's Large Hill, Team</td>\n      <td>NaN</td>\n    </tr>\n    <tr>\n      <th>271114</th>\n      <td>135571</td>\n      <td>Tomasz Ireneusz ya</td>\n      <td>M</td>\n      <td>30.0</td>\n      <td>185.0</td>\n      <td>96.0</td>\n      <td>Poland</td>\n      <td>POL</td>\n      <td>1998 Winter</td>\n      <td>1998</td>\n      <td>Winter</td>\n      <td>Nagano</td>\n      <td>Bobsleigh</td>\n      <td>Bobsleigh Men's Four</td>\n      <td>NaN</td>\n    </tr>\n    <tr>\n      <th>271115</th>\n      <td>135571</td>\n      <td>Tomasz Ireneusz ya</td>\n      <td>M</td>\n      <td>34.0</td>\n      <td>185.0</td>\n      <td>96.0</td>\n      <td>Poland</td>\n      <td>POL</td>\n      <td>2002 Winter</td>\n      <td>2002</td>\n      <td>Winter</td>\n      <td>Salt Lake City</td>\n      <td>Bobsleigh</td>\n      <td>Bobsleigh Men's Four</td>\n      <td>NaN</td>\n    </tr>\n  </tbody>\n</table>\n<p>271116 rows × 15 columns</p>\n</div>"
     },
     "metadata": {},
     "execution_count": 45
    }
   ],
   "source": [
    "import pandas as pd\n",
    "import numpy as np\n",
    "import matplotlib.pyplot as plt\n",
    "\n",
    "athletes_df = pd.read_csv('data_files/athlete_events.csv')\n",
    "athletes_df"
   ]
  },
  {
   "cell_type": "code",
   "execution_count": 46,
   "metadata": {},
   "outputs": [
    {
     "output_type": "execute_result",
     "data": {
      "text/plain": [
       "                  ID            Age         Height         Weight  \\\n",
       "count  271116.000000  261642.000000  210945.000000  208241.000000   \n",
       "mean    68248.954396      25.556898     175.338970      70.702393   \n",
       "std     39022.286345       6.393561      10.518462      14.348020   \n",
       "min         1.000000      10.000000     127.000000      25.000000   \n",
       "25%     34643.000000      21.000000     168.000000      60.000000   \n",
       "50%     68205.000000      24.000000     175.000000      70.000000   \n",
       "75%    102097.250000      28.000000     183.000000      79.000000   \n",
       "max    135571.000000      97.000000     226.000000     214.000000   \n",
       "\n",
       "                Year  \n",
       "count  271116.000000  \n",
       "mean     1978.378480  \n",
       "std        29.877632  \n",
       "min      1896.000000  \n",
       "25%      1960.000000  \n",
       "50%      1988.000000  \n",
       "75%      2002.000000  \n",
       "max      2016.000000  "
      ],
      "text/html": "<div>\n<style scoped>\n    .dataframe tbody tr th:only-of-type {\n        vertical-align: middle;\n    }\n\n    .dataframe tbody tr th {\n        vertical-align: top;\n    }\n\n    .dataframe thead th {\n        text-align: right;\n    }\n</style>\n<table border=\"1\" class=\"dataframe\">\n  <thead>\n    <tr style=\"text-align: right;\">\n      <th></th>\n      <th>ID</th>\n      <th>Age</th>\n      <th>Height</th>\n      <th>Weight</th>\n      <th>Year</th>\n    </tr>\n  </thead>\n  <tbody>\n    <tr>\n      <th>count</th>\n      <td>271116.000000</td>\n      <td>261642.000000</td>\n      <td>210945.000000</td>\n      <td>208241.000000</td>\n      <td>271116.000000</td>\n    </tr>\n    <tr>\n      <th>mean</th>\n      <td>68248.954396</td>\n      <td>25.556898</td>\n      <td>175.338970</td>\n      <td>70.702393</td>\n      <td>1978.378480</td>\n    </tr>\n    <tr>\n      <th>std</th>\n      <td>39022.286345</td>\n      <td>6.393561</td>\n      <td>10.518462</td>\n      <td>14.348020</td>\n      <td>29.877632</td>\n    </tr>\n    <tr>\n      <th>min</th>\n      <td>1.000000</td>\n      <td>10.000000</td>\n      <td>127.000000</td>\n      <td>25.000000</td>\n      <td>1896.000000</td>\n    </tr>\n    <tr>\n      <th>25%</th>\n      <td>34643.000000</td>\n      <td>21.000000</td>\n      <td>168.000000</td>\n      <td>60.000000</td>\n      <td>1960.000000</td>\n    </tr>\n    <tr>\n      <th>50%</th>\n      <td>68205.000000</td>\n      <td>24.000000</td>\n      <td>175.000000</td>\n      <td>70.000000</td>\n      <td>1988.000000</td>\n    </tr>\n    <tr>\n      <th>75%</th>\n      <td>102097.250000</td>\n      <td>28.000000</td>\n      <td>183.000000</td>\n      <td>79.000000</td>\n      <td>2002.000000</td>\n    </tr>\n    <tr>\n      <th>max</th>\n      <td>135571.000000</td>\n      <td>97.000000</td>\n      <td>226.000000</td>\n      <td>214.000000</td>\n      <td>2016.000000</td>\n    </tr>\n  </tbody>\n</table>\n</div>"
     },
     "metadata": {},
     "execution_count": 46
    }
   ],
   "source": [
    "athletes_df.describe()"
   ]
  },
  {
   "cell_type": "code",
   "execution_count": 56,
   "metadata": {},
   "outputs": [
    {
     "output_type": "execute_result",
     "data": {
      "text/plain": [
       "ID        False\n",
       "Name      False\n",
       "Sex       False\n",
       "Age        True\n",
       "Height    False\n",
       "Weight    False\n",
       "Team      False\n",
       "NOC       False\n",
       "Games     False\n",
       "Year      False\n",
       "Season    False\n",
       "City      False\n",
       "Sport     False\n",
       "Event     False\n",
       "Medal     False\n",
       "dtype: bool"
      ]
     },
     "metadata": {},
     "execution_count": 56
    }
   ],
   "source": [
    "# Determine which columns have null values \n",
    "athletes_df.isna().any()\n"
   ]
  },
  {
   "cell_type": "code",
   "execution_count": 57,
   "metadata": {},
   "outputs": [
    {
     "output_type": "execute_result",
     "data": {
      "text/plain": [
       "   ID                      Name Sex Age Height Weight            Team  NOC  \\\n",
       "0   1                 A Dijiang   M  24    180     80           China  CHN   \n",
       "1   2                  A Lamusi   M  23    170     60           China  CHN   \n",
       "2   3       Gunnar Nielsen Aaby   M  24    N/A    N/A         Denmark  DEN   \n",
       "3   4      Edgar Lindenau Aabye   M  34    N/A    N/A  Denmark/Sweden  DEN   \n",
       "4   5  Christine Jacoba Aaftink   F  21    185     82     Netherlands  NED   \n",
       "\n",
       "         Games  Year  Season       City          Sport  \\\n",
       "0  1992 Summer  1992  Summer  Barcelona     Basketball   \n",
       "1  2012 Summer  2012  Summer     London           Judo   \n",
       "2  1920 Summer  1920  Summer  Antwerpen       Football   \n",
       "3  1900 Summer  1900  Summer      Paris     Tug-Of-War   \n",
       "4  1988 Winter  1988  Winter    Calgary  Speed Skating   \n",
       "\n",
       "                              Event Medal  \n",
       "0       Basketball Men's Basketball  None  \n",
       "1      Judo Men's Extra-Lightweight  None  \n",
       "2           Football Men's Football  None  \n",
       "3       Tug-Of-War Men's Tug-Of-War  Gold  \n",
       "4  Speed Skating Women's 500 metres  None  "
      ],
      "text/html": "<div>\n<style scoped>\n    .dataframe tbody tr th:only-of-type {\n        vertical-align: middle;\n    }\n\n    .dataframe tbody tr th {\n        vertical-align: top;\n    }\n\n    .dataframe thead th {\n        text-align: right;\n    }\n</style>\n<table border=\"1\" class=\"dataframe\">\n  <thead>\n    <tr style=\"text-align: right;\">\n      <th></th>\n      <th>ID</th>\n      <th>Name</th>\n      <th>Sex</th>\n      <th>Age</th>\n      <th>Height</th>\n      <th>Weight</th>\n      <th>Team</th>\n      <th>NOC</th>\n      <th>Games</th>\n      <th>Year</th>\n      <th>Season</th>\n      <th>City</th>\n      <th>Sport</th>\n      <th>Event</th>\n      <th>Medal</th>\n    </tr>\n  </thead>\n  <tbody>\n    <tr>\n      <th>0</th>\n      <td>1</td>\n      <td>A Dijiang</td>\n      <td>M</td>\n      <td>24</td>\n      <td>180</td>\n      <td>80</td>\n      <td>China</td>\n      <td>CHN</td>\n      <td>1992 Summer</td>\n      <td>1992</td>\n      <td>Summer</td>\n      <td>Barcelona</td>\n      <td>Basketball</td>\n      <td>Basketball Men's Basketball</td>\n      <td>None</td>\n    </tr>\n    <tr>\n      <th>1</th>\n      <td>2</td>\n      <td>A Lamusi</td>\n      <td>M</td>\n      <td>23</td>\n      <td>170</td>\n      <td>60</td>\n      <td>China</td>\n      <td>CHN</td>\n      <td>2012 Summer</td>\n      <td>2012</td>\n      <td>Summer</td>\n      <td>London</td>\n      <td>Judo</td>\n      <td>Judo Men's Extra-Lightweight</td>\n      <td>None</td>\n    </tr>\n    <tr>\n      <th>2</th>\n      <td>3</td>\n      <td>Gunnar Nielsen Aaby</td>\n      <td>M</td>\n      <td>24</td>\n      <td>N/A</td>\n      <td>N/A</td>\n      <td>Denmark</td>\n      <td>DEN</td>\n      <td>1920 Summer</td>\n      <td>1920</td>\n      <td>Summer</td>\n      <td>Antwerpen</td>\n      <td>Football</td>\n      <td>Football Men's Football</td>\n      <td>None</td>\n    </tr>\n    <tr>\n      <th>3</th>\n      <td>4</td>\n      <td>Edgar Lindenau Aabye</td>\n      <td>M</td>\n      <td>34</td>\n      <td>N/A</td>\n      <td>N/A</td>\n      <td>Denmark/Sweden</td>\n      <td>DEN</td>\n      <td>1900 Summer</td>\n      <td>1900</td>\n      <td>Summer</td>\n      <td>Paris</td>\n      <td>Tug-Of-War</td>\n      <td>Tug-Of-War Men's Tug-Of-War</td>\n      <td>Gold</td>\n    </tr>\n    <tr>\n      <th>4</th>\n      <td>5</td>\n      <td>Christine Jacoba Aaftink</td>\n      <td>F</td>\n      <td>21</td>\n      <td>185</td>\n      <td>82</td>\n      <td>Netherlands</td>\n      <td>NED</td>\n      <td>1988 Winter</td>\n      <td>1988</td>\n      <td>Winter</td>\n      <td>Calgary</td>\n      <td>Speed Skating</td>\n      <td>Speed Skating Women's 500 metres</td>\n      <td>None</td>\n    </tr>\n  </tbody>\n</table>\n</div>"
     },
     "metadata": {},
     "execution_count": 57
    }
   ],
   "source": [
    "# Replace null values\n",
    "athletes_df [\"Medal\"]= athletes_df[\"Medal\"].replace(np.nan,\"None\")\n",
    "athletes_df [\"Age\"]= athletes_df[\"Age\"].replace(np.nan,\"N/A\")\n",
    "athletes_df [\"Height\"]= athletes_df[\"Height\"].replace(np.nan,\"N/A\")\n",
    "athletes_df [\"Weight\"]= athletes_df[\"Weight\"].replace(np.nan,\"N/A\")\n",
    "athletes_df.head()"
   ]
  },
  {
   "cell_type": "code",
   "execution_count": 58,
   "metadata": {},
   "outputs": [
    {
     "output_type": "execute_result",
     "data": {
      "text/plain": [
       "ID        False\n",
       "Name      False\n",
       "Sex       False\n",
       "Age       False\n",
       "Height    False\n",
       "Weight    False\n",
       "Team      False\n",
       "NOC       False\n",
       "Games     False\n",
       "Year      False\n",
       "Season    False\n",
       "City      False\n",
       "Sport     False\n",
       "Event     False\n",
       "Medal     False\n",
       "dtype: bool"
      ]
     },
     "metadata": {},
     "execution_count": 58
    }
   ],
   "source": [
    "# Confirm there are no more null values\n",
    "athletes_df.isna().any()"
   ]
  },
  {
   "cell_type": "code",
   "execution_count": 59,
   "metadata": {},
   "outputs": [
    {
     "output_type": "execute_result",
     "data": {
      "text/plain": [
       "    ID                      Name Sex Age Height Weight            Team  NOC  \\\n",
       "3    4      Edgar Lindenau Aabye   M  34    N/A    N/A  Denmark/Sweden  DEN   \n",
       "37  15      Arvo Ossian Aaltonen   M  30    N/A    N/A         Finland  FIN   \n",
       "38  15      Arvo Ossian Aaltonen   M  30    N/A    N/A         Finland  FIN   \n",
       "40  16  Juhamatti Tapio Aaltonen   M  28    184     85         Finland  FIN   \n",
       "41  17   Paavo Johannes Aaltonen   M  28    175     64         Finland  FIN   \n",
       "\n",
       "          Games  Year  Season       City       Sport  \\\n",
       "3   1900 Summer  1900  Summer      Paris  Tug-Of-War   \n",
       "37  1920 Summer  1920  Summer  Antwerpen    Swimming   \n",
       "38  1920 Summer  1920  Summer  Antwerpen    Swimming   \n",
       "40  2014 Winter  2014  Winter      Sochi  Ice Hockey   \n",
       "41  1948 Summer  1948  Summer     London  Gymnastics   \n",
       "\n",
       "                                     Event   Medal  \n",
       "3              Tug-Of-War Men's Tug-Of-War    Gold  \n",
       "37  Swimming Men's 200 metres Breaststroke  Bronze  \n",
       "38  Swimming Men's 400 metres Breaststroke  Bronze  \n",
       "40             Ice Hockey Men's Ice Hockey  Bronze  \n",
       "41  Gymnastics Men's Individual All-Around  Bronze  "
      ],
      "text/html": "<div>\n<style scoped>\n    .dataframe tbody tr th:only-of-type {\n        vertical-align: middle;\n    }\n\n    .dataframe tbody tr th {\n        vertical-align: top;\n    }\n\n    .dataframe thead th {\n        text-align: right;\n    }\n</style>\n<table border=\"1\" class=\"dataframe\">\n  <thead>\n    <tr style=\"text-align: right;\">\n      <th></th>\n      <th>ID</th>\n      <th>Name</th>\n      <th>Sex</th>\n      <th>Age</th>\n      <th>Height</th>\n      <th>Weight</th>\n      <th>Team</th>\n      <th>NOC</th>\n      <th>Games</th>\n      <th>Year</th>\n      <th>Season</th>\n      <th>City</th>\n      <th>Sport</th>\n      <th>Event</th>\n      <th>Medal</th>\n    </tr>\n  </thead>\n  <tbody>\n    <tr>\n      <th>3</th>\n      <td>4</td>\n      <td>Edgar Lindenau Aabye</td>\n      <td>M</td>\n      <td>34</td>\n      <td>N/A</td>\n      <td>N/A</td>\n      <td>Denmark/Sweden</td>\n      <td>DEN</td>\n      <td>1900 Summer</td>\n      <td>1900</td>\n      <td>Summer</td>\n      <td>Paris</td>\n      <td>Tug-Of-War</td>\n      <td>Tug-Of-War Men's Tug-Of-War</td>\n      <td>Gold</td>\n    </tr>\n    <tr>\n      <th>37</th>\n      <td>15</td>\n      <td>Arvo Ossian Aaltonen</td>\n      <td>M</td>\n      <td>30</td>\n      <td>N/A</td>\n      <td>N/A</td>\n      <td>Finland</td>\n      <td>FIN</td>\n      <td>1920 Summer</td>\n      <td>1920</td>\n      <td>Summer</td>\n      <td>Antwerpen</td>\n      <td>Swimming</td>\n      <td>Swimming Men's 200 metres Breaststroke</td>\n      <td>Bronze</td>\n    </tr>\n    <tr>\n      <th>38</th>\n      <td>15</td>\n      <td>Arvo Ossian Aaltonen</td>\n      <td>M</td>\n      <td>30</td>\n      <td>N/A</td>\n      <td>N/A</td>\n      <td>Finland</td>\n      <td>FIN</td>\n      <td>1920 Summer</td>\n      <td>1920</td>\n      <td>Summer</td>\n      <td>Antwerpen</td>\n      <td>Swimming</td>\n      <td>Swimming Men's 400 metres Breaststroke</td>\n      <td>Bronze</td>\n    </tr>\n    <tr>\n      <th>40</th>\n      <td>16</td>\n      <td>Juhamatti Tapio Aaltonen</td>\n      <td>M</td>\n      <td>28</td>\n      <td>184</td>\n      <td>85</td>\n      <td>Finland</td>\n      <td>FIN</td>\n      <td>2014 Winter</td>\n      <td>2014</td>\n      <td>Winter</td>\n      <td>Sochi</td>\n      <td>Ice Hockey</td>\n      <td>Ice Hockey Men's Ice Hockey</td>\n      <td>Bronze</td>\n    </tr>\n    <tr>\n      <th>41</th>\n      <td>17</td>\n      <td>Paavo Johannes Aaltonen</td>\n      <td>M</td>\n      <td>28</td>\n      <td>175</td>\n      <td>64</td>\n      <td>Finland</td>\n      <td>FIN</td>\n      <td>1948 Summer</td>\n      <td>1948</td>\n      <td>Summer</td>\n      <td>London</td>\n      <td>Gymnastics</td>\n      <td>Gymnastics Men's Individual All-Around</td>\n      <td>Bronze</td>\n    </tr>\n  </tbody>\n</table>\n</div>"
     },
     "metadata": {},
     "execution_count": 59
    }
   ],
   "source": [
    "# Create winner's dataframe\n",
    "winners_df = athletes_df[athletes_df[\"Medal\"] != \"None\"]\n",
    "winners_df.head()"
   ]
  },
  {
   "cell_type": "code",
   "execution_count": 20,
   "metadata": {},
   "outputs": [
    {
     "output_type": "execute_result",
     "data": {
      "text/plain": [
       "            ID                      Name Sex Age Height Weight         Team  \\\n",
       "4            5  Christine Jacoba Aaftink   F  21    185     82  Netherlands   \n",
       "5            5  Christine Jacoba Aaftink   F  21    185     82  Netherlands   \n",
       "6            5  Christine Jacoba Aaftink   F  25    185     82  Netherlands   \n",
       "7            5  Christine Jacoba Aaftink   F  25    185     82  Netherlands   \n",
       "8            5  Christine Jacoba Aaftink   F  27    185     82  Netherlands   \n",
       "...        ...                       ...  ..  ..    ...    ...          ...   \n",
       "271111  135569                Andrzej ya   M  29    179     89     Poland-1   \n",
       "271112  135570                  Piotr ya   M  27    176     59       Poland   \n",
       "271113  135570                  Piotr ya   M  27    176     59       Poland   \n",
       "271114  135571        Tomasz Ireneusz ya   M  30    185     96       Poland   \n",
       "271115  135571        Tomasz Ireneusz ya   M  34    185     96       Poland   \n",
       "\n",
       "        NOC        Games  Year  Season            City          Sport  \\\n",
       "4       NED  1988 Winter  1988  Winter         Calgary  Speed Skating   \n",
       "5       NED  1988 Winter  1988  Winter         Calgary  Speed Skating   \n",
       "6       NED  1992 Winter  1992  Winter     Albertville  Speed Skating   \n",
       "7       NED  1992 Winter  1992  Winter     Albertville  Speed Skating   \n",
       "8       NED  1994 Winter  1994  Winter     Lillehammer  Speed Skating   \n",
       "...     ...          ...   ...     ...             ...            ...   \n",
       "271111  POL  1976 Winter  1976  Winter       Innsbruck           Luge   \n",
       "271112  POL  2014 Winter  2014  Winter           Sochi    Ski Jumping   \n",
       "271113  POL  2014 Winter  2014  Winter           Sochi    Ski Jumping   \n",
       "271114  POL  1998 Winter  1998  Winter          Nagano      Bobsleigh   \n",
       "271115  POL  2002 Winter  2002  Winter  Salt Lake City      Bobsleigh   \n",
       "\n",
       "                                           Event Medal  \n",
       "4               Speed Skating Women's 500 metres  None  \n",
       "5             Speed Skating Women's 1,000 metres  None  \n",
       "6               Speed Skating Women's 500 metres  None  \n",
       "7             Speed Skating Women's 1,000 metres  None  \n",
       "8               Speed Skating Women's 500 metres  None  \n",
       "...                                          ...   ...  \n",
       "271111                Luge Mixed (Men)'s Doubles  None  \n",
       "271112  Ski Jumping Men's Large Hill, Individual  None  \n",
       "271113        Ski Jumping Men's Large Hill, Team  None  \n",
       "271114                      Bobsleigh Men's Four  None  \n",
       "271115                      Bobsleigh Men's Four  None  \n",
       "\n",
       "[48564 rows x 15 columns]"
      ],
      "text/html": "<div>\n<style scoped>\n    .dataframe tbody tr th:only-of-type {\n        vertical-align: middle;\n    }\n\n    .dataframe tbody tr th {\n        vertical-align: top;\n    }\n\n    .dataframe thead th {\n        text-align: right;\n    }\n</style>\n<table border=\"1\" class=\"dataframe\">\n  <thead>\n    <tr style=\"text-align: right;\">\n      <th></th>\n      <th>ID</th>\n      <th>Name</th>\n      <th>Sex</th>\n      <th>Age</th>\n      <th>Height</th>\n      <th>Weight</th>\n      <th>Team</th>\n      <th>NOC</th>\n      <th>Games</th>\n      <th>Year</th>\n      <th>Season</th>\n      <th>City</th>\n      <th>Sport</th>\n      <th>Event</th>\n      <th>Medal</th>\n    </tr>\n  </thead>\n  <tbody>\n    <tr>\n      <th>4</th>\n      <td>5</td>\n      <td>Christine Jacoba Aaftink</td>\n      <td>F</td>\n      <td>21</td>\n      <td>185</td>\n      <td>82</td>\n      <td>Netherlands</td>\n      <td>NED</td>\n      <td>1988 Winter</td>\n      <td>1988</td>\n      <td>Winter</td>\n      <td>Calgary</td>\n      <td>Speed Skating</td>\n      <td>Speed Skating Women's 500 metres</td>\n      <td>None</td>\n    </tr>\n    <tr>\n      <th>5</th>\n      <td>5</td>\n      <td>Christine Jacoba Aaftink</td>\n      <td>F</td>\n      <td>21</td>\n      <td>185</td>\n      <td>82</td>\n      <td>Netherlands</td>\n      <td>NED</td>\n      <td>1988 Winter</td>\n      <td>1988</td>\n      <td>Winter</td>\n      <td>Calgary</td>\n      <td>Speed Skating</td>\n      <td>Speed Skating Women's 1,000 metres</td>\n      <td>None</td>\n    </tr>\n    <tr>\n      <th>6</th>\n      <td>5</td>\n      <td>Christine Jacoba Aaftink</td>\n      <td>F</td>\n      <td>25</td>\n      <td>185</td>\n      <td>82</td>\n      <td>Netherlands</td>\n      <td>NED</td>\n      <td>1992 Winter</td>\n      <td>1992</td>\n      <td>Winter</td>\n      <td>Albertville</td>\n      <td>Speed Skating</td>\n      <td>Speed Skating Women's 500 metres</td>\n      <td>None</td>\n    </tr>\n    <tr>\n      <th>7</th>\n      <td>5</td>\n      <td>Christine Jacoba Aaftink</td>\n      <td>F</td>\n      <td>25</td>\n      <td>185</td>\n      <td>82</td>\n      <td>Netherlands</td>\n      <td>NED</td>\n      <td>1992 Winter</td>\n      <td>1992</td>\n      <td>Winter</td>\n      <td>Albertville</td>\n      <td>Speed Skating</td>\n      <td>Speed Skating Women's 1,000 metres</td>\n      <td>None</td>\n    </tr>\n    <tr>\n      <th>8</th>\n      <td>5</td>\n      <td>Christine Jacoba Aaftink</td>\n      <td>F</td>\n      <td>27</td>\n      <td>185</td>\n      <td>82</td>\n      <td>Netherlands</td>\n      <td>NED</td>\n      <td>1994 Winter</td>\n      <td>1994</td>\n      <td>Winter</td>\n      <td>Lillehammer</td>\n      <td>Speed Skating</td>\n      <td>Speed Skating Women's 500 metres</td>\n      <td>None</td>\n    </tr>\n    <tr>\n      <th>...</th>\n      <td>...</td>\n      <td>...</td>\n      <td>...</td>\n      <td>...</td>\n      <td>...</td>\n      <td>...</td>\n      <td>...</td>\n      <td>...</td>\n      <td>...</td>\n      <td>...</td>\n      <td>...</td>\n      <td>...</td>\n      <td>...</td>\n      <td>...</td>\n      <td>...</td>\n    </tr>\n    <tr>\n      <th>271111</th>\n      <td>135569</td>\n      <td>Andrzej ya</td>\n      <td>M</td>\n      <td>29</td>\n      <td>179</td>\n      <td>89</td>\n      <td>Poland-1</td>\n      <td>POL</td>\n      <td>1976 Winter</td>\n      <td>1976</td>\n      <td>Winter</td>\n      <td>Innsbruck</td>\n      <td>Luge</td>\n      <td>Luge Mixed (Men)'s Doubles</td>\n      <td>None</td>\n    </tr>\n    <tr>\n      <th>271112</th>\n      <td>135570</td>\n      <td>Piotr ya</td>\n      <td>M</td>\n      <td>27</td>\n      <td>176</td>\n      <td>59</td>\n      <td>Poland</td>\n      <td>POL</td>\n      <td>2014 Winter</td>\n      <td>2014</td>\n      <td>Winter</td>\n      <td>Sochi</td>\n      <td>Ski Jumping</td>\n      <td>Ski Jumping Men's Large Hill, Individual</td>\n      <td>None</td>\n    </tr>\n    <tr>\n      <th>271113</th>\n      <td>135570</td>\n      <td>Piotr ya</td>\n      <td>M</td>\n      <td>27</td>\n      <td>176</td>\n      <td>59</td>\n      <td>Poland</td>\n      <td>POL</td>\n      <td>2014 Winter</td>\n      <td>2014</td>\n      <td>Winter</td>\n      <td>Sochi</td>\n      <td>Ski Jumping</td>\n      <td>Ski Jumping Men's Large Hill, Team</td>\n      <td>None</td>\n    </tr>\n    <tr>\n      <th>271114</th>\n      <td>135571</td>\n      <td>Tomasz Ireneusz ya</td>\n      <td>M</td>\n      <td>30</td>\n      <td>185</td>\n      <td>96</td>\n      <td>Poland</td>\n      <td>POL</td>\n      <td>1998 Winter</td>\n      <td>1998</td>\n      <td>Winter</td>\n      <td>Nagano</td>\n      <td>Bobsleigh</td>\n      <td>Bobsleigh Men's Four</td>\n      <td>None</td>\n    </tr>\n    <tr>\n      <th>271115</th>\n      <td>135571</td>\n      <td>Tomasz Ireneusz ya</td>\n      <td>M</td>\n      <td>34</td>\n      <td>185</td>\n      <td>96</td>\n      <td>Poland</td>\n      <td>POL</td>\n      <td>2002 Winter</td>\n      <td>2002</td>\n      <td>Winter</td>\n      <td>Salt Lake City</td>\n      <td>Bobsleigh</td>\n      <td>Bobsleigh Men's Four</td>\n      <td>None</td>\n    </tr>\n  </tbody>\n</table>\n<p>48564 rows × 15 columns</p>\n</div>"
     },
     "metadata": {},
     "execution_count": 20
    }
   ],
   "source": [
    "winterGames_df = athletes_df[athletes_df['Season'] == 'Winter']\n",
    "winterGames_df"
   ]
  },
  {
   "cell_type": "code",
   "execution_count": 21,
   "metadata": {},
   "outputs": [
    {
     "output_type": "execute_result",
     "data": {
      "text/plain": [
       "                 ID          Year\n",
       "count   48564.00000  48564.000000\n",
       "mean    69394.74930   1987.825097\n",
       "std     38462.33521     22.070100\n",
       "min         5.00000   1924.000000\n",
       "25%     37280.00000   1972.000000\n",
       "50%     67798.00000   1994.000000\n",
       "75%    103279.00000   2006.000000\n",
       "max    135571.00000   2014.000000"
      ],
      "text/html": "<div>\n<style scoped>\n    .dataframe tbody tr th:only-of-type {\n        vertical-align: middle;\n    }\n\n    .dataframe tbody tr th {\n        vertical-align: top;\n    }\n\n    .dataframe thead th {\n        text-align: right;\n    }\n</style>\n<table border=\"1\" class=\"dataframe\">\n  <thead>\n    <tr style=\"text-align: right;\">\n      <th></th>\n      <th>ID</th>\n      <th>Year</th>\n    </tr>\n  </thead>\n  <tbody>\n    <tr>\n      <th>count</th>\n      <td>48564.00000</td>\n      <td>48564.000000</td>\n    </tr>\n    <tr>\n      <th>mean</th>\n      <td>69394.74930</td>\n      <td>1987.825097</td>\n    </tr>\n    <tr>\n      <th>std</th>\n      <td>38462.33521</td>\n      <td>22.070100</td>\n    </tr>\n    <tr>\n      <th>min</th>\n      <td>5.00000</td>\n      <td>1924.000000</td>\n    </tr>\n    <tr>\n      <th>25%</th>\n      <td>37280.00000</td>\n      <td>1972.000000</td>\n    </tr>\n    <tr>\n      <th>50%</th>\n      <td>67798.00000</td>\n      <td>1994.000000</td>\n    </tr>\n    <tr>\n      <th>75%</th>\n      <td>103279.00000</td>\n      <td>2006.000000</td>\n    </tr>\n    <tr>\n      <th>max</th>\n      <td>135571.00000</td>\n      <td>2014.000000</td>\n    </tr>\n  </tbody>\n</table>\n</div>"
     },
     "metadata": {},
     "execution_count": 21
    }
   ],
   "source": [
    "winterGames_df.describe()"
   ]
  },
  {
   "cell_type": "code",
   "execution_count": 22,
   "metadata": {},
   "outputs": [
    {
     "output_type": "execute_result",
     "data": {
      "text/plain": [
       "            ID                                Name Sex Age Height Weight  \\\n",
       "0            1                           A Dijiang   M  24    180     80   \n",
       "1            2                            A Lamusi   M  23    170     60   \n",
       "2            3                 Gunnar Nielsen Aaby   M  24    N/A    N/A   \n",
       "3            4                Edgar Lindenau Aabye   M  34    N/A    N/A   \n",
       "26           8  Cornelia \"Cor\" Aalten (-Strannood)   F  18    168    N/A   \n",
       "...        ...                                 ...  ..  ..    ...    ...   \n",
       "271106  135565            Fernando scar Zylberberg   M  27    168     76   \n",
       "271107  135566          James Francis \"Jim\" Zylker   M  21    175     75   \n",
       "271108  135567        Aleksandr Viktorovich Zyuzin   M  24    183     72   \n",
       "271109  135567        Aleksandr Viktorovich Zyuzin   M  28    183     72   \n",
       "271110  135568              Olga Igorevna Zyuzkova   F  33    171     69   \n",
       "\n",
       "                  Team  NOC        Games  Year  Season            City  \\\n",
       "0                China  CHN  1992 Summer  1992  Summer       Barcelona   \n",
       "1                China  CHN  2012 Summer  2012  Summer          London   \n",
       "2              Denmark  DEN  1920 Summer  1920  Summer       Antwerpen   \n",
       "3       Denmark/Sweden  DEN  1900 Summer  1900  Summer           Paris   \n",
       "26         Netherlands  NED  1932 Summer  1932  Summer     Los Angeles   \n",
       "...                ...  ...          ...   ...     ...             ...   \n",
       "271106       Argentina  ARG  2004 Summer  2004  Summer          Athina   \n",
       "271107   United States  USA  1972 Summer  1972  Summer          Munich   \n",
       "271108          Russia  RUS  2000 Summer  2000  Summer          Sydney   \n",
       "271109          Russia  RUS  2004 Summer  2004  Summer          Athina   \n",
       "271110         Belarus  BLR  2016 Summer  2016  Summer  Rio de Janeiro   \n",
       "\n",
       "             Sport                                   Event Medal  \n",
       "0       Basketball             Basketball Men's Basketball  None  \n",
       "1             Judo            Judo Men's Extra-Lightweight  None  \n",
       "2         Football                 Football Men's Football  None  \n",
       "3       Tug-Of-War             Tug-Of-War Men's Tug-Of-War  Gold  \n",
       "26       Athletics            Athletics Women's 100 metres  None  \n",
       "...            ...                                     ...   ...  \n",
       "271106      Hockey                     Hockey Men's Hockey  None  \n",
       "271107    Football                 Football Men's Football  None  \n",
       "271108      Rowing  Rowing Men's Lightweight Coxless Fours  None  \n",
       "271109      Rowing  Rowing Men's Lightweight Coxless Fours  None  \n",
       "271110  Basketball           Basketball Women's Basketball  None  \n",
       "\n",
       "[222552 rows x 15 columns]"
      ],
      "text/html": "<div>\n<style scoped>\n    .dataframe tbody tr th:only-of-type {\n        vertical-align: middle;\n    }\n\n    .dataframe tbody tr th {\n        vertical-align: top;\n    }\n\n    .dataframe thead th {\n        text-align: right;\n    }\n</style>\n<table border=\"1\" class=\"dataframe\">\n  <thead>\n    <tr style=\"text-align: right;\">\n      <th></th>\n      <th>ID</th>\n      <th>Name</th>\n      <th>Sex</th>\n      <th>Age</th>\n      <th>Height</th>\n      <th>Weight</th>\n      <th>Team</th>\n      <th>NOC</th>\n      <th>Games</th>\n      <th>Year</th>\n      <th>Season</th>\n      <th>City</th>\n      <th>Sport</th>\n      <th>Event</th>\n      <th>Medal</th>\n    </tr>\n  </thead>\n  <tbody>\n    <tr>\n      <th>0</th>\n      <td>1</td>\n      <td>A Dijiang</td>\n      <td>M</td>\n      <td>24</td>\n      <td>180</td>\n      <td>80</td>\n      <td>China</td>\n      <td>CHN</td>\n      <td>1992 Summer</td>\n      <td>1992</td>\n      <td>Summer</td>\n      <td>Barcelona</td>\n      <td>Basketball</td>\n      <td>Basketball Men's Basketball</td>\n      <td>None</td>\n    </tr>\n    <tr>\n      <th>1</th>\n      <td>2</td>\n      <td>A Lamusi</td>\n      <td>M</td>\n      <td>23</td>\n      <td>170</td>\n      <td>60</td>\n      <td>China</td>\n      <td>CHN</td>\n      <td>2012 Summer</td>\n      <td>2012</td>\n      <td>Summer</td>\n      <td>London</td>\n      <td>Judo</td>\n      <td>Judo Men's Extra-Lightweight</td>\n      <td>None</td>\n    </tr>\n    <tr>\n      <th>2</th>\n      <td>3</td>\n      <td>Gunnar Nielsen Aaby</td>\n      <td>M</td>\n      <td>24</td>\n      <td>N/A</td>\n      <td>N/A</td>\n      <td>Denmark</td>\n      <td>DEN</td>\n      <td>1920 Summer</td>\n      <td>1920</td>\n      <td>Summer</td>\n      <td>Antwerpen</td>\n      <td>Football</td>\n      <td>Football Men's Football</td>\n      <td>None</td>\n    </tr>\n    <tr>\n      <th>3</th>\n      <td>4</td>\n      <td>Edgar Lindenau Aabye</td>\n      <td>M</td>\n      <td>34</td>\n      <td>N/A</td>\n      <td>N/A</td>\n      <td>Denmark/Sweden</td>\n      <td>DEN</td>\n      <td>1900 Summer</td>\n      <td>1900</td>\n      <td>Summer</td>\n      <td>Paris</td>\n      <td>Tug-Of-War</td>\n      <td>Tug-Of-War Men's Tug-Of-War</td>\n      <td>Gold</td>\n    </tr>\n    <tr>\n      <th>26</th>\n      <td>8</td>\n      <td>Cornelia \"Cor\" Aalten (-Strannood)</td>\n      <td>F</td>\n      <td>18</td>\n      <td>168</td>\n      <td>N/A</td>\n      <td>Netherlands</td>\n      <td>NED</td>\n      <td>1932 Summer</td>\n      <td>1932</td>\n      <td>Summer</td>\n      <td>Los Angeles</td>\n      <td>Athletics</td>\n      <td>Athletics Women's 100 metres</td>\n      <td>None</td>\n    </tr>\n    <tr>\n      <th>...</th>\n      <td>...</td>\n      <td>...</td>\n      <td>...</td>\n      <td>...</td>\n      <td>...</td>\n      <td>...</td>\n      <td>...</td>\n      <td>...</td>\n      <td>...</td>\n      <td>...</td>\n      <td>...</td>\n      <td>...</td>\n      <td>...</td>\n      <td>...</td>\n      <td>...</td>\n    </tr>\n    <tr>\n      <th>271106</th>\n      <td>135565</td>\n      <td>Fernando scar Zylberberg</td>\n      <td>M</td>\n      <td>27</td>\n      <td>168</td>\n      <td>76</td>\n      <td>Argentina</td>\n      <td>ARG</td>\n      <td>2004 Summer</td>\n      <td>2004</td>\n      <td>Summer</td>\n      <td>Athina</td>\n      <td>Hockey</td>\n      <td>Hockey Men's Hockey</td>\n      <td>None</td>\n    </tr>\n    <tr>\n      <th>271107</th>\n      <td>135566</td>\n      <td>James Francis \"Jim\" Zylker</td>\n      <td>M</td>\n      <td>21</td>\n      <td>175</td>\n      <td>75</td>\n      <td>United States</td>\n      <td>USA</td>\n      <td>1972 Summer</td>\n      <td>1972</td>\n      <td>Summer</td>\n      <td>Munich</td>\n      <td>Football</td>\n      <td>Football Men's Football</td>\n      <td>None</td>\n    </tr>\n    <tr>\n      <th>271108</th>\n      <td>135567</td>\n      <td>Aleksandr Viktorovich Zyuzin</td>\n      <td>M</td>\n      <td>24</td>\n      <td>183</td>\n      <td>72</td>\n      <td>Russia</td>\n      <td>RUS</td>\n      <td>2000 Summer</td>\n      <td>2000</td>\n      <td>Summer</td>\n      <td>Sydney</td>\n      <td>Rowing</td>\n      <td>Rowing Men's Lightweight Coxless Fours</td>\n      <td>None</td>\n    </tr>\n    <tr>\n      <th>271109</th>\n      <td>135567</td>\n      <td>Aleksandr Viktorovich Zyuzin</td>\n      <td>M</td>\n      <td>28</td>\n      <td>183</td>\n      <td>72</td>\n      <td>Russia</td>\n      <td>RUS</td>\n      <td>2004 Summer</td>\n      <td>2004</td>\n      <td>Summer</td>\n      <td>Athina</td>\n      <td>Rowing</td>\n      <td>Rowing Men's Lightweight Coxless Fours</td>\n      <td>None</td>\n    </tr>\n    <tr>\n      <th>271110</th>\n      <td>135568</td>\n      <td>Olga Igorevna Zyuzkova</td>\n      <td>F</td>\n      <td>33</td>\n      <td>171</td>\n      <td>69</td>\n      <td>Belarus</td>\n      <td>BLR</td>\n      <td>2016 Summer</td>\n      <td>2016</td>\n      <td>Summer</td>\n      <td>Rio de Janeiro</td>\n      <td>Basketball</td>\n      <td>Basketball Women's Basketball</td>\n      <td>None</td>\n    </tr>\n  </tbody>\n</table>\n<p>222552 rows × 15 columns</p>\n</div>"
     },
     "metadata": {},
     "execution_count": 22
    }
   ],
   "source": [
    "summerGames_df = athletes_df[athletes_df['Season'] == 'Summer']\n",
    "summerGames_df"
   ]
  },
  {
   "cell_type": "code",
   "execution_count": 9,
   "metadata": {},
   "outputs": [
    {
     "output_type": "execute_result",
     "data": {
      "text/plain": [
       "                  ID            Age         Height        Weight  \\\n",
       "count  222552.000000  213363.000000  170695.000000  168698.00000   \n",
       "mean    67998.925712      25.674053     175.515551      70.68906   \n",
       "std     39139.038228       6.699839      10.914725      14.80394   \n",
       "min         1.000000      10.000000     127.000000      25.00000   \n",
       "25%     34000.750000      21.000000     168.000000      60.00000   \n",
       "50%     68302.500000      24.000000     175.000000      70.00000   \n",
       "75%    101881.000000      28.000000     183.000000      79.00000   \n",
       "max    135568.000000      97.000000     226.000000     214.00000   \n",
       "\n",
       "                Year  \n",
       "count  222552.000000  \n",
       "mean     1976.317094  \n",
       "std        30.942802  \n",
       "min      1896.000000  \n",
       "25%      1956.000000  \n",
       "50%      1984.000000  \n",
       "75%      2000.000000  \n",
       "max      2016.000000  "
      ],
      "text/html": "<div>\n<style scoped>\n    .dataframe tbody tr th:only-of-type {\n        vertical-align: middle;\n    }\n\n    .dataframe tbody tr th {\n        vertical-align: top;\n    }\n\n    .dataframe thead th {\n        text-align: right;\n    }\n</style>\n<table border=\"1\" class=\"dataframe\">\n  <thead>\n    <tr style=\"text-align: right;\">\n      <th></th>\n      <th>ID</th>\n      <th>Age</th>\n      <th>Height</th>\n      <th>Weight</th>\n      <th>Year</th>\n    </tr>\n  </thead>\n  <tbody>\n    <tr>\n      <th>count</th>\n      <td>222552.000000</td>\n      <td>213363.000000</td>\n      <td>170695.000000</td>\n      <td>168698.00000</td>\n      <td>222552.000000</td>\n    </tr>\n    <tr>\n      <th>mean</th>\n      <td>67998.925712</td>\n      <td>25.674053</td>\n      <td>175.515551</td>\n      <td>70.68906</td>\n      <td>1976.317094</td>\n    </tr>\n    <tr>\n      <th>std</th>\n      <td>39139.038228</td>\n      <td>6.699839</td>\n      <td>10.914725</td>\n      <td>14.80394</td>\n      <td>30.942802</td>\n    </tr>\n    <tr>\n      <th>min</th>\n      <td>1.000000</td>\n      <td>10.000000</td>\n      <td>127.000000</td>\n      <td>25.00000</td>\n      <td>1896.000000</td>\n    </tr>\n    <tr>\n      <th>25%</th>\n      <td>34000.750000</td>\n      <td>21.000000</td>\n      <td>168.000000</td>\n      <td>60.00000</td>\n      <td>1956.000000</td>\n    </tr>\n    <tr>\n      <th>50%</th>\n      <td>68302.500000</td>\n      <td>24.000000</td>\n      <td>175.000000</td>\n      <td>70.00000</td>\n      <td>1984.000000</td>\n    </tr>\n    <tr>\n      <th>75%</th>\n      <td>101881.000000</td>\n      <td>28.000000</td>\n      <td>183.000000</td>\n      <td>79.00000</td>\n      <td>2000.000000</td>\n    </tr>\n    <tr>\n      <th>max</th>\n      <td>135568.000000</td>\n      <td>97.000000</td>\n      <td>226.000000</td>\n      <td>214.00000</td>\n      <td>2016.000000</td>\n    </tr>\n  </tbody>\n</table>\n</div>"
     },
     "metadata": {},
     "execution_count": 9
    }
   ],
   "source": [
    "summerGames_df.describe()"
   ]
  },
  {
   "cell_type": "code",
   "execution_count": 43,
   "metadata": {},
   "outputs": [
    {
     "output_type": "stream",
     "name": "stdout",
     "text": [
      "Int64Index([], dtype='int64')\n"
     ]
    }
   ],
   "source": []
  },
  {
   "cell_type": "code",
   "execution_count": null,
   "metadata": {},
   "outputs": [],
   "source": []
  }
 ]
}